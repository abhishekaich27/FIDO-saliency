{
 "cells": [
  {
   "cell_type": "code",
   "execution_count": 1,
   "metadata": {
    "scrolled": false
   },
   "outputs": [
    {
     "name": "stdout",
     "output_type": "stream",
     "text": [
      "args: Namespace(ard_init=0.0, batch_size=16, bvlc_dir='nets/BVLC/', classifier='neuralnet', cuda=False, dataset='valid/', dropout_param_size=[28, 28], epoch_print=1, epochs=100, eval_samples=1, gan_g_dir='nets/GAN/', gen_model_name='BlurryInpainter', gen_model_path=None, gpu_ids=[0], image_offset=0, importance_method='vbd_sdr', lr=0.05, no_cuda=True, num_examples=6000, num_imgs=1, num_samples=1, overwrite=True, prior=0.5, reg_coef=0.01, rw_max=30, save_dir='./imgs', save_tag='', seed=1, tv_coef=0.0, verbose=1, visdom_enabled=False, visualize=False, window=1)\n",
      "==================== Start =====================\n",
      "\n",
      "done training neural net\n",
      "img_idx: 0\n",
      "Start evaluating image...\n",
      "epoch 0 / 100: loss 5.58785 (5.58785, 0.00000), acc 1.00, range: (-0.05, -0.01, 0.05), takes 0.02s,  \n",
      "epoch 1 / 100: loss 5.83248 (5.70265, 0.12983), acc 1.00, range: (-0.10, -0.02, 0.10), takes 0.02s,  \n",
      "epoch 2 / 100: loss 5.38696 (5.12887, 0.25809), acc 1.00, range: (-0.15, -0.04, 0.15), takes 0.00s,  \n",
      "epoch 3 / 100: loss 5.13019 (4.74559, 0.38460), acc 1.00, range: (-0.20, -0.05, 0.20), takes 0.00s,  \n",
      "epoch 4 / 100: loss 5.38894 (4.87967, 0.50927), acc 1.00, range: (-0.25, -0.07, 0.24), takes 0.00s,  \n",
      "epoch 5 / 100: loss 5.24949 (4.61747, 0.63203), acc 1.00, range: (-0.29, -0.08, 0.29), takes 0.00s,  \n",
      "epoch 6 / 100: loss 5.24545 (4.49283, 0.75262), acc 1.00, range: (-0.34, -0.10, 0.33), takes 0.00s,  \n",
      "epoch 7 / 100: loss 5.32554 (4.45457, 0.87098), acc 1.00, range: (-0.39, -0.11, 0.38), takes 0.00s,  \n",
      "epoch 8 / 100: loss 5.29833 (4.31132, 0.98700), acc 1.00, range: (-0.43, -0.13, 0.42), takes 0.00s,  \n",
      "epoch 9 / 100: loss 5.36114 (4.26051, 1.10063), acc 1.00, range: (-0.48, -0.15, 0.47), takes 0.00s,  \n",
      "epoch 10 / 100: loss 4.66708 (3.45528, 1.21180), acc 1.00, range: (-0.53, -0.17, 0.51), takes 0.00s,  \n",
      "epoch 11 / 100: loss 4.98764 (3.66731, 1.32033), acc 1.00, range: (-0.57, -0.19, 0.55), takes 0.00s,  \n",
      "epoch 12 / 100: loss 4.96081 (3.53460, 1.42621), acc 1.00, range: (-0.62, -0.21, 0.59), takes 0.00s,  \n",
      "epoch 13 / 100: loss 4.92523 (3.39568, 1.52955), acc 1.00, range: (-0.67, -0.23, 0.63), takes 0.00s,  \n",
      "epoch 14 / 100: loss 4.65775 (3.02752, 1.63024), acc 1.00, range: (-0.71, -0.25, 0.68), takes 0.00s,  \n",
      "epoch 15 / 100: loss 4.30641 (2.57816, 1.72825), acc 1.00, range: (-0.76, -0.27, 0.72), takes 0.00s,  \n",
      "epoch 16 / 100: loss 4.03055 (2.20710, 1.82346), acc 0.94, range: (-0.80, -0.29, 0.76), takes 0.00s,  \n",
      "epoch 17 / 100: loss 4.14209 (2.22614, 1.91595), acc 1.00, range: (-0.85, -0.31, 0.80), takes 0.00s,  \n",
      "epoch 18 / 100: loss 3.96597 (1.96009, 2.00588), acc 1.00, range: (-0.89, -0.33, 0.84), takes 0.00s,  \n",
      "epoch 19 / 100: loss 4.06931 (1.97624, 2.09307), acc 1.00, range: (-0.94, -0.36, 0.87), takes 0.00s,  \n",
      "epoch 20 / 100: loss 4.06135 (1.88367, 2.17767), acc 1.00, range: (-0.98, -0.38, 0.91), takes 0.00s,  \n",
      "epoch 21 / 100: loss 3.63474 (1.37487, 2.25988), acc 1.00, range: (-1.03, -0.40, 0.95), takes 0.00s,  \n",
      "epoch 22 / 100: loss 4.02759 (1.68790, 2.33969), acc 1.00, range: (-1.07, -0.42, 0.99), takes 0.00s,  \n",
      "epoch 23 / 100: loss 3.49151 (1.07432, 2.41720), acc 0.94, range: (-1.11, -0.45, 1.02), takes 0.00s,  \n",
      "epoch 24 / 100: loss 3.61477 (1.12236, 2.49241), acc 0.81, range: (-1.16, -0.47, 1.06), takes 0.00s,  \n",
      "epoch 25 / 100: loss 3.48057 (0.91519, 2.56538), acc 0.88, range: (-1.20, -0.49, 1.09), takes 0.00s,  \n",
      "epoch 26 / 100: loss 3.46720 (0.83099, 2.63620), acc 1.00, range: (-1.24, -0.52, 1.13), takes 0.00s,  \n",
      "epoch 27 / 100: loss 3.33997 (0.63502, 2.70495), acc 0.94, range: (-1.29, -0.54, 1.16), takes 0.00s,  \n",
      "epoch 28 / 100: loss 3.01626 (0.24459, 2.77167), acc 0.62, range: (-1.33, -0.57, 1.19), takes 0.00s,  \n",
      "epoch 29 / 100: loss 3.35509 (0.51848, 2.83661), acc 0.69, range: (-1.37, -0.59, 1.22), takes 0.00s,  \n",
      "epoch 30 / 100: loss 3.41786 (0.51811, 2.89975), acc 0.75, range: (-1.42, -0.61, 1.25), takes 0.00s,  \n",
      "epoch 31 / 100: loss 2.92891 (0.06324, 2.86567), acc 0.56, range: (-1.46, -0.64, 1.28), takes 0.00s,  \n",
      "epoch 32 / 100: loss 2.92351 (0.09114, 2.83237), acc 0.50, range: (-1.50, -0.66, 1.32), takes 0.00s,  \n",
      "epoch 33 / 100: loss 2.75370 (-0.04609, 2.79979), acc 0.56, range: (-1.54, -0.68, 1.35), takes 0.00s,  \n",
      "epoch 34 / 100: loss 2.70156 (-0.06646, 2.76802), acc 0.44, range: (-1.58, -0.71, 1.38), takes 0.00s,  \n",
      "epoch 35 / 100: loss 2.36868 (-0.36845, 2.73713), acc 0.31, range: (-1.62, -0.73, 1.42), takes 0.00s,  \n",
      "epoch 36 / 100: loss 2.19515 (-0.51200, 2.70715), acc 0.25, range: (-1.65, -0.75, 1.45), takes 0.00s,  \n",
      "epoch 37 / 100: loss 1.98065 (-0.69754, 2.67818), acc 0.12, range: (-1.69, -0.77, 1.48), takes 0.00s,  \n",
      "epoch 38 / 100: loss 1.87695 (-0.77327, 2.65022), acc 0.25, range: (-1.73, -0.79, 1.51), takes 0.00s,  \n",
      "epoch 39 / 100: loss 1.73743 (-0.88589, 2.62333), acc 0.06, range: (-1.76, -0.81, 1.53), takes 0.00s,  \n",
      "epoch 40 / 100: loss 1.86946 (-0.72788, 2.59735), acc 0.06, range: (-1.80, -0.83, 1.56), takes 0.00s,  \n",
      "epoch 41 / 100: loss 1.70144 (-0.87083, 2.57227), acc 0.12, range: (-1.83, -0.85, 1.59), takes 0.00s,  \n",
      "epoch 42 / 100: loss 1.36093 (-1.18716, 2.54809), acc 0.06, range: (-1.86, -0.87, 1.61), takes 0.00s,  \n",
      "epoch 43 / 100: loss 1.23194 (-1.29290, 2.52483), acc 0.00, range: (-1.89, -0.89, 1.64), takes 0.00s,  \n",
      "epoch 44 / 100: loss 1.01364 (-1.48893, 2.50257), acc 0.00, range: (-1.92, -0.91, 1.66), takes 0.00s,  \n",
      "epoch 45 / 100: loss 0.99790 (-1.48337, 2.48127), acc 0.00, range: (-1.95, -0.93, 1.69), takes 0.00s,  \n",
      "epoch 46 / 100: loss 1.12904 (-1.33188, 2.46091), acc 0.12, range: (-1.98, -0.94, 1.71), takes 0.00s,  \n",
      "epoch 47 / 100: loss 0.99708 (-1.44440, 2.44148), acc 0.06, range: (-2.01, -0.96, 1.73), takes 0.00s,  \n",
      "epoch 48 / 100: loss 1.05995 (-1.36295, 2.42290), acc 0.00, range: (-2.03, -0.98, 1.76), takes 0.00s,  \n",
      "epoch 49 / 100: loss 0.95040 (-1.45469, 2.40509), acc 0.00, range: (-2.06, -0.99, 1.78), takes 0.00s,  \n",
      "epoch 50 / 100: loss 0.75309 (-1.63490, 2.38799), acc 0.00, range: (-2.08, -1.01, 1.80), takes 0.00s,  \n",
      "epoch 51 / 100: loss 0.71554 (-1.65607, 2.37160), acc 0.00, range: (-2.10, -1.02, 1.82), takes 0.00s,  \n",
      "epoch 52 / 100: loss 0.22251 (-2.13342, 2.35592), acc 0.00, range: (-2.13, -1.04, 1.84), takes 0.00s,  \n",
      "epoch 53 / 100: loss 0.34842 (-1.99248, 2.34090), acc 0.00, range: (-2.15, -1.05, 1.85), takes 0.00s,  \n",
      "epoch 54 / 100: loss 0.62719 (-1.69930, 2.32649), acc 0.00, range: (-2.17, -1.06, 1.87), takes 0.00s,  \n",
      "epoch 55 / 100: loss 0.29376 (-2.01893, 2.31269), acc 0.00, range: (-2.19, -1.08, 1.88), takes 0.00s,  \n",
      "epoch 56 / 100: loss 0.56091 (-1.73852, 2.29943), acc 0.00, range: (-2.21, -1.09, 1.90), takes 0.00s,  \n",
      "epoch 57 / 100: loss 0.34433 (-1.94238, 2.28671), acc 0.00, range: (-2.23, -1.10, 1.91), takes 0.00s,  \n",
      "epoch 58 / 100: loss 0.25441 (-2.02014, 2.27456), acc 0.00, range: (-2.25, -1.11, 1.93), takes 0.00s,  \n",
      "epoch 59 / 100: loss 0.10002 (-2.16291, 2.26293), acc 0.00, range: (-2.27, -1.12, 1.94), takes 0.00s,  \n",
      "epoch 60 / 100: loss 0.04018 (-2.21167, 2.25184), acc 0.00, range: (-2.29, -1.13, 1.95), takes 0.00s,  \n",
      "epoch 61 / 100: loss 0.03849 (-2.20280, 2.24129), acc 0.06, range: (-2.30, -1.14, 1.97), takes 0.00s,  \n",
      "epoch 62 / 100: loss -0.04533 (-2.27657, 2.23124), acc 0.00, range: (-2.32, -1.15, 1.98), takes 0.00s,  \n",
      "epoch 63 / 100: loss 0.05963 (-2.16196, 2.22159), acc 0.00, range: (-2.33, -1.16, 1.99), takes 0.00s,  \n",
      "epoch 64 / 100: loss 0.10481 (-2.10760, 2.21241), acc 0.06, range: (-2.35, -1.17, 2.00), takes 0.00s,  \n",
      "epoch 65 / 100: loss -0.10820 (-2.31182, 2.20363), acc 0.00, range: (-2.36, -1.18, 2.01), takes 0.00s,  \n",
      "epoch 66 / 100: loss -0.18611 (-2.38138, 2.19527), acc 0.00, range: (-2.38, -1.19, 2.02), takes 0.00s,  \n",
      "epoch 67 / 100: loss -0.39456 (-2.58185, 2.18729), acc 0.00, range: (-2.39, -1.20, 2.03), takes 0.00s,  \n",
      "epoch 68 / 100: loss -0.49960 (-2.67929, 2.17969), acc 0.00, range: (-2.41, -1.21, 2.05), takes 0.00s,  \n",
      "epoch 69 / 100: loss -0.30514 (-2.47751, 2.17238), acc 0.00, range: (-2.42, -1.21, 2.05), takes 0.00s,  \n",
      "epoch 70 / 100: loss -0.42627 (-2.59171, 2.16544), acc 0.00, range: (-2.43, -1.22, 2.06), takes 0.00s,  \n",
      "epoch 71 / 100: loss -0.63676 (-2.79556, 2.15880), acc 0.00, range: (-2.44, -1.23, 2.07), takes 0.00s,  \n",
      "epoch 72 / 100: loss -0.48273 (-2.63521, 2.15248), acc 0.00, range: (-2.45, -1.23, 2.08), takes 0.00s,  \n",
      "epoch 73 / 100: loss -0.65229 (-2.79880, 2.14651), acc 0.00, range: (-2.46, -1.24, 2.09), takes 0.00s,  \n",
      "epoch 74 / 100: loss -0.42007 (-2.56088, 2.14081), acc 0.00, range: (-2.47, -1.25, 2.10), takes 0.00s,  \n",
      "epoch 75 / 100: loss -0.68307 (-2.81843, 2.13535), acc 0.00, range: (-2.48, -1.25, 2.11), takes 0.00s,  \n",
      "epoch 76 / 100: loss -0.58369 (-2.71384, 2.13014), acc 0.00, range: (-2.49, -1.26, 2.12), takes 0.00s,  \n",
      "epoch 77 / 100: loss -0.46584 (-2.59103, 2.12520), acc 0.00, range: (-2.50, -1.26, 2.13), takes 0.00s,  \n",
      "epoch 78 / 100: loss -0.76227 (-2.88280, 2.12053), acc 0.00, range: (-2.51, -1.27, 2.13), takes 0.00s,  \n",
      "epoch 79 / 100: loss -0.54724 (-2.66332, 2.11608), acc 0.00, range: (-2.52, -1.27, 2.14), takes 0.00s,  \n",
      "epoch 80 / 100: loss -0.69393 (-2.80582, 2.11189), acc 0.00, range: (-2.52, -1.28, 2.14), takes 0.00s,  \n",
      "epoch 81 / 100: loss -0.44893 (-2.55689, 2.10796), acc 0.00, range: (-2.53, -1.28, 2.15), takes 0.00s,  \n",
      "epoch 82 / 100: loss -0.10716 (-2.21142, 2.10426), acc 0.00, range: (-2.54, -1.29, 2.16), takes 0.00s,  \n",
      "epoch 83 / 100: loss -0.61919 (-2.71998, 2.10080), acc 0.00, range: (-2.54, -1.29, 2.16), takes 0.00s,  \n",
      "epoch 84 / 100: loss -0.60027 (-2.69785, 2.09758), acc 0.00, range: (-2.55, -1.29, 2.17), takes 0.00s,  \n",
      "epoch 85 / 100: loss -0.52921 (-2.62380, 2.09459), acc 0.00, range: (-2.55, -1.30, 2.17), takes 0.00s,  \n",
      "epoch 86 / 100: loss -0.66729 (-2.75907, 2.09178), acc 0.00, range: (-2.56, -1.30, 2.18), takes 0.00s,  \n",
      "epoch 87 / 100: loss -0.42006 (-2.50925, 2.08919), acc 0.00, range: (-2.56, -1.30, 2.18), takes 0.00s,  \n",
      "epoch 88 / 100: loss -0.66728 (-2.75408, 2.08680), acc 0.00, range: (-2.57, -1.31, 2.18), takes 0.00s,  \n",
      "epoch 89 / 100: loss -0.88739 (-2.97201, 2.08461), acc 0.00, range: (-2.57, -1.31, 2.19), takes 0.00s,  \n",
      "epoch 90 / 100: loss -0.25019 (-2.33279, 2.08261), acc 0.00, range: (-2.57, -1.31, 2.19), takes 0.00s,  \n",
      "epoch 91 / 100: loss -0.66115 (-2.74194, 2.08079), acc 0.00, range: (-2.58, -1.31, 2.19), takes 0.00s,  \n",
      "epoch 92 / 100: loss -0.67238 (-2.75154, 2.07916), acc 0.00, range: (-2.58, -1.32, 2.20), takes 0.00s,  \n",
      "epoch 93 / 100: loss -0.82646 (-2.90418, 2.07773), acc 0.00, range: (-2.58, -1.32, 2.20), takes 0.00s,  \n",
      "epoch 94 / 100: loss -0.61057 (-2.68706, 2.07648), acc 0.00, range: (-2.59, -1.32, 2.20), takes 0.00s,  \n",
      "epoch 95 / 100: loss -0.79979 (-2.87522, 2.07543), acc 0.00, range: (-2.59, -1.32, 2.20), takes 0.00s,  \n",
      "epoch 96 / 100: loss -0.54649 (-2.62105, 2.07455), acc 0.00, range: (-2.59, -1.32, 2.20), takes 0.00s,  \n",
      "epoch 97 / 100: loss -0.68172 (-2.75557, 2.07385), acc 0.00, range: (-2.59, -1.32, 2.20), takes 0.00s,  \n",
      "epoch 98 / 100: loss -0.81941 (-2.89273, 2.07332), acc 0.00, range: (-2.59, -1.32, 2.20), takes 0.00s,  \n",
      "epoch 99 / 100: loss -0.67734 (-2.75032, 2.07297), acc 0.00, range: (-2.59, -1.32, 2.20), takes 0.00s,  \n",
      "Done! Spend time 0.3 seconds.\n",
      "range: (0.100, 0.930), shape: torch.Size([28, 28])\n",
      "Finish evaluating image in 0.2827942371368408 seconds\n"
     ]
    }
   ],
   "source": [
    "# gen_model_name = 'OracleInpainter'\n",
    "# gen_model_name = 'LocalMeanInpainter'\n",
    "# gen_model_name = 'RandomGreyscaleBernoulliInpainter'\n",
    "gen_model_name = 'BlurryInpainter'  # broken\n",
    "reg_coef = 1e-2\n",
    "save_dir = './imgs'\n",
    "classifier = 'neuralnet'\n",
    "#classifier = 'logisticregression'  # LR isn't fully supported; has bugs with OracleInpainter\n",
    "num_imgs = 1\n",
    "epochs = 100\n",
    "batch_size = 16\n",
    "lr = 0.05\n",
    "importance_method = 'vbd_sdr'\n",
    "# importance_method = 'vbd_ssr'\n",
    "# importance_method = 'bbmp_sdr'\n",
    "num_samples = 1\n",
    "\n",
    "import shutil, os\n",
    "clean_slate = True  # danger; save_dir better not be something important like './'\n",
    "if clean_slate and os.path.exists(os.path.join(save_dir, gen_model_name)):\n",
    "    shutil.rmtree(os.path.join(save_dir, gen_model_name))\n",
    "\n",
    "\n",
    "%run synthetic.py --classifier $classifier --importance-method $importance_method --dropout_param_size 28 28 --epochs $epochs --lr $lr --reg-coef $reg_coef --batch-size $batch_size --num-samples $num_samples --gen-model-name $gen_model_name --save-dir $save_dir --num-imgs $num_imgs --dataset valid/ --gpu-ids 0 --num-examples 6000 --overwrite --no-cuda"
   ]
  },
  {
   "cell_type": "code",
   "execution_count": 2,
   "metadata": {
    "scrolled": true
   },
   "outputs": [
    {
     "name": "stdout",
     "output_type": "stream",
     "text": [
      "15 15\n"
     ]
    },
    {
     "data": {
      "image/png": "[encoded data removed]",
      "text/plain": [
       "<Figure size 432x288 with 2 Axes>"
      ]
     },
     "metadata": {
      "needs_background": "light"
     },
     "output_type": "display_data"
    }
   ],
   "source": [
    "import torch\n",
    "import torchvision\n",
    "import matplotlib\n",
    "import matplotlib.pyplot as plt\n",
    "%matplotlib inline\n",
    "\n",
    "import glob\n",
    "filenames = glob.glob('./imgs/{}/*'.format(gen_model_name))\n",
    "assert len(filenames) > 0, 'no files'\n",
    "for filename in filenames:\n",
    "    z = torch.load(filename)\n",
    "\n",
    "    yhat = int(torch.max(z['classifier_output'], 1)[1].numpy())\n",
    "    y = z['gnd_truth_label']\n",
    "    print(y, yhat)\n",
    "\n",
    "\n",
    "    f, a = plt.subplots(1, 2)\n",
    "    a[0].imshow(z['unnormalized_img'].permute(1, 2, 0).numpy())\n",
    "    a[1].imshow(z['imp_vector'])\n",
    "    f.suptitle(filename)\n",
    "\n"
   ]
  },
  {
   "cell_type": "code",
   "execution_count": null,
   "metadata": {},
   "outputs": [],
   "source": []
  },
  {
   "cell_type": "raw",
   "metadata": {},
   "source": []
  }
 ],
 "metadata": {
  "kernelspec": {
   "display_name": "Python 3",
   "language": "python",
   "name": "python3"
  },
  "language_info": {
   "codemirror_mode": {
    "name": "ipython",
    "version": 3
   },
   "file_extension": ".py",
   "mimetype": "text/x-python",
   "name": "python",
   "nbconvert_exporter": "python",
   "pygments_lexer": "ipython3",
   "version": "3.6.5"
  }
 },
 "nbformat": 4,
 "nbformat_minor": 2
}
